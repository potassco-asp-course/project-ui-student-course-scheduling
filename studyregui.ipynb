{
 "cells": [
  {
   "cell_type": "code",
   "execution_count": null,
   "id": "c558c970-5c14-4f12-86b0-028afa013de6",
   "metadata": {},
   "outputs": [],
   "source": [
    "from maincode import main"
   ]
  },
  {
   "cell_type": "code",
   "execution_count": null,
   "id": "ec93bc25-4bf2-4a97-8313-79f4d84eef31",
   "metadata": {
    "tags": []
   },
   "outputs": [],
   "source": [
    "instance = main()\n",
    "display(instance.ui)"
   ]
  },
  {
   "cell_type": "code",
   "execution_count": null,
   "id": "d45d49ff-4dfe-4d79-821b-0b4709d1694d",
   "metadata": {},
   "outputs": [],
   "source": [
    "!clingo user_course.lp encoding.lp 0 -c s={instance.sem} "
   ]
  }
 ],
 "metadata": {
  "kernelspec": {
   "display_name": "Python 3 (ipykernel)",
   "language": "python",
   "name": "python3"
  },
  "language_info": {
   "codemirror_mode": {
    "name": "ipython",
    "version": 3
   },
   "file_extension": ".py",
   "mimetype": "text/x-python",
   "name": "python",
   "nbconvert_exporter": "python",
   "pygments_lexer": "ipython3",
   "version": "3.9.7"
  }
 },
 "nbformat": 4,
 "nbformat_minor": 5
}
